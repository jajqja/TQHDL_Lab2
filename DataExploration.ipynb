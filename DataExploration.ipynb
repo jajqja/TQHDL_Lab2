{
 "cells": [
  {
   "cell_type": "markdown",
   "id": "274980af-bb3e-4141-835b-77ac42c4632f",
   "metadata": {},
   "source": [
    "# **TIỀN XỬ LÝ DỮ LIỆU**\n",
    "Dataset: https://www.kaggle.com/datasets/ahmedabbas757/coffee-sales/data"
   ]
  },
  {
   "cell_type": "markdown",
   "id": "fb16ee30-dd94-4fc4-a5f0-ba401f3aa986",
   "metadata": {},
   "source": [
    "## **1. Import thư viện:**"
   ]
  },
  {
   "cell_type": "code",
   "execution_count": 3,
   "id": "341012c9-2635-436d-9cf8-cc2e07fd1e8c",
   "metadata": {},
   "outputs": [],
   "source": [
    "import pandas as pd\n",
    "import numpy as np"
   ]
  },
  {
   "cell_type": "markdown",
   "id": "75da7b40-8b8f-46ed-84b9-1d4c26c2e0ea",
   "metadata": {},
   "source": [
    "## **2. Tiền xử lý:**\n",
    "### **Thu thập dữ liệu:**"
   ]
  },
  {
   "cell_type": "code",
   "execution_count": 5,
   "id": "b781b400-dc59-44c8-9e59-57b386766874",
   "metadata": {},
   "outputs": [
    {
     "data": {
      "text/html": [
       "<div>\n",
       "<style scoped>\n",
       "    .dataframe tbody tr th:only-of-type {\n",
       "        vertical-align: middle;\n",
       "    }\n",
       "\n",
       "    .dataframe tbody tr th {\n",
       "        vertical-align: top;\n",
       "    }\n",
       "\n",
       "    .dataframe thead th {\n",
       "        text-align: right;\n",
       "    }\n",
       "</style>\n",
       "<table border=\"1\" class=\"dataframe\">\n",
       "  <thead>\n",
       "    <tr style=\"text-align: right;\">\n",
       "      <th></th>\n",
       "      <th>transaction_id</th>\n",
       "      <th>transaction_date</th>\n",
       "      <th>transaction_time</th>\n",
       "      <th>transaction_qty</th>\n",
       "      <th>store_id</th>\n",
       "      <th>store_location</th>\n",
       "      <th>product_id</th>\n",
       "      <th>unit_price</th>\n",
       "      <th>product_category</th>\n",
       "      <th>product_type</th>\n",
       "      <th>product_detail</th>\n",
       "    </tr>\n",
       "  </thead>\n",
       "  <tbody>\n",
       "    <tr>\n",
       "      <th>0</th>\n",
       "      <td>1</td>\n",
       "      <td>2023-01-01</td>\n",
       "      <td>07:06:11</td>\n",
       "      <td>2</td>\n",
       "      <td>5</td>\n",
       "      <td>Lower Manhattan</td>\n",
       "      <td>32</td>\n",
       "      <td>3.0</td>\n",
       "      <td>Coffee</td>\n",
       "      <td>Gourmet brewed coffee</td>\n",
       "      <td>Ethiopia Rg</td>\n",
       "    </tr>\n",
       "    <tr>\n",
       "      <th>1</th>\n",
       "      <td>2</td>\n",
       "      <td>2023-01-01</td>\n",
       "      <td>07:08:56</td>\n",
       "      <td>2</td>\n",
       "      <td>5</td>\n",
       "      <td>Lower Manhattan</td>\n",
       "      <td>57</td>\n",
       "      <td>3.1</td>\n",
       "      <td>Tea</td>\n",
       "      <td>Brewed Chai tea</td>\n",
       "      <td>Spicy Eye Opener Chai Lg</td>\n",
       "    </tr>\n",
       "    <tr>\n",
       "      <th>2</th>\n",
       "      <td>3</td>\n",
       "      <td>2023-01-01</td>\n",
       "      <td>07:14:04</td>\n",
       "      <td>2</td>\n",
       "      <td>5</td>\n",
       "      <td>Lower Manhattan</td>\n",
       "      <td>59</td>\n",
       "      <td>4.5</td>\n",
       "      <td>Drinking Chocolate</td>\n",
       "      <td>Hot chocolate</td>\n",
       "      <td>Dark chocolate Lg</td>\n",
       "    </tr>\n",
       "    <tr>\n",
       "      <th>3</th>\n",
       "      <td>4</td>\n",
       "      <td>2023-01-01</td>\n",
       "      <td>07:20:24</td>\n",
       "      <td>1</td>\n",
       "      <td>5</td>\n",
       "      <td>Lower Manhattan</td>\n",
       "      <td>22</td>\n",
       "      <td>2.0</td>\n",
       "      <td>Coffee</td>\n",
       "      <td>Drip coffee</td>\n",
       "      <td>Our Old Time Diner Blend Sm</td>\n",
       "    </tr>\n",
       "    <tr>\n",
       "      <th>4</th>\n",
       "      <td>5</td>\n",
       "      <td>2023-01-01</td>\n",
       "      <td>07:22:41</td>\n",
       "      <td>2</td>\n",
       "      <td>5</td>\n",
       "      <td>Lower Manhattan</td>\n",
       "      <td>57</td>\n",
       "      <td>3.1</td>\n",
       "      <td>Tea</td>\n",
       "      <td>Brewed Chai tea</td>\n",
       "      <td>Spicy Eye Opener Chai Lg</td>\n",
       "    </tr>\n",
       "  </tbody>\n",
       "</table>\n",
       "</div>"
      ],
      "text/plain": [
       "   transaction_id transaction_date transaction_time  transaction_qty  \\\n",
       "0               1       2023-01-01         07:06:11                2   \n",
       "1               2       2023-01-01         07:08:56                2   \n",
       "2               3       2023-01-01         07:14:04                2   \n",
       "3               4       2023-01-01         07:20:24                1   \n",
       "4               5       2023-01-01         07:22:41                2   \n",
       "\n",
       "   store_id   store_location  product_id  unit_price    product_category  \\\n",
       "0         5  Lower Manhattan          32         3.0              Coffee   \n",
       "1         5  Lower Manhattan          57         3.1                 Tea   \n",
       "2         5  Lower Manhattan          59         4.5  Drinking Chocolate   \n",
       "3         5  Lower Manhattan          22         2.0              Coffee   \n",
       "4         5  Lower Manhattan          57         3.1                 Tea   \n",
       "\n",
       "            product_type               product_detail  \n",
       "0  Gourmet brewed coffee                  Ethiopia Rg  \n",
       "1        Brewed Chai tea     Spicy Eye Opener Chai Lg  \n",
       "2          Hot chocolate            Dark chocolate Lg  \n",
       "3            Drip coffee  Our Old Time Diner Blend Sm  \n",
       "4        Brewed Chai tea     Spicy Eye Opener Chai Lg  "
      ]
     },
     "execution_count": 5,
     "metadata": {},
     "output_type": "execute_result"
    }
   ],
   "source": [
    "data = pd.read_excel(\"./data/Coffee Shop Sales.xlsx\")\n",
    "data = pd.DataFrame(data)\n",
    "data.head()"
   ]
  },
  {
   "cell_type": "markdown",
   "id": "cc63c5fe-4a87-4258-9e46-c8ebd5b97511",
   "metadata": {},
   "source": [
    "---"
   ]
  },
  {
   "cell_type": "markdown",
   "id": "e3e8bef4-b48a-4d61-afce-3b1d43d15e6c",
   "metadata": {},
   "source": [
    "### **Khám phá dữ liệu**\n",
    "#### **- Tập dữ liệu có bao nhiêu dòng? Bao nhiêu cột?**"
   ]
  },
  {
   "cell_type": "code",
   "execution_count": 8,
   "id": "e9cc4e03-fee2-49dd-8a28-c2d88eb0b8ef",
   "metadata": {},
   "outputs": [
    {
     "data": {
      "text/plain": [
       "(149116, 11)"
      ]
     },
     "execution_count": 8,
     "metadata": {},
     "output_type": "execute_result"
    }
   ],
   "source": [
    "shape = data.shape\n",
    "shape"
   ]
  },
  {
   "cell_type": "markdown",
   "id": "d6278a00-6e8d-4c99-910c-ed1c18d90cbc",
   "metadata": {},
   "source": [
    "#### **- Ý nghĩa của mỗi dòng trong tập dữ liệu?**\n",
    "\n",
    "Mỗi dòng trong tập dữ liệu thể hiện một thông tin giao dịch có ngày giờ cụ thể tạo một cửa hàng cà phê ở NYC.\n",
    "\n",
    "#### **- Ý nghĩa của mỗi cột trong tập dữ liệu?**\n",
    "\n",
    "Dưới đây là ý nghĩa của từng cột: \n",
    "\n",
    "| Giá trị cột          | Mô tả                                                 |\n",
    "|----------------------|-------------------------------------------------------|\n",
    "| `transaction_id`     | mã giao dịch                                          |\n",
    "| `transaction_date`   | ngày giao dịch (MM/DD/YY)                             |\n",
    "| `transaction_time`   | thời gian giao dịch trong ngày (HH:MM:SS)             |\n",
    "| `transaction_qty`    | số lượng sản phẩm bán trong một giao dịch             |\n",
    "| `store_id`           | mã của hàng thực hiện giao dịch                       |\n",
    "| `store_location`     | địa chỉ cửa hàng thực hiện giao dịch                  |\n",
    "| `product_id`         | mã sản phẩm được bán                                  |\n",
    "| `unit_price`         | đơn giá của sản phẩm được bán                         |\n",
    "| `product_category`   | mô tả phân loại sản phẩm                              |\n",
    "| `product_type`       | mô tả loại sản phẩm                                   |\n",
    "| `product_detail`     | chi tiết sản phẩm                                     |\n"
   ]
  },
  {
   "cell_type": "markdown",
   "id": "8d9447d4-070f-4446-9794-705285d43ef4",
   "metadata": {},
   "source": [
    "#### **- Tập dữ liệu có tồn tại những hàng trùng nhau không?**"
   ]
  },
  {
   "cell_type": "code",
   "execution_count": 11,
   "id": "981baafb-1927-4cf1-805b-6fed9f0e0730",
   "metadata": {},
   "outputs": [
    {
     "name": "stdout",
     "output_type": "stream",
     "text": [
      "Raw data have 0 duplicated lines.\n"
     ]
    }
   ],
   "source": [
    "duplicates = data[data.duplicated(keep = \"first\")]\n",
    "print(f'Raw data have {len(duplicates)} duplicated lines.')"
   ]
  },
  {
   "cell_type": "markdown",
   "id": "fc4db261-2855-4a03-91c3-70b1de5c311c",
   "metadata": {},
   "source": [
    "#### **- Kiểu dữ liệu của mỗi cột là gì? Có hợp lý với ý nghĩa của cột không?**"
   ]
  },
  {
   "cell_type": "code",
   "execution_count": 13,
   "id": "f53973ac-359f-4bac-b5be-f742e4c5a226",
   "metadata": {},
   "outputs": [
    {
     "data": {
      "text/plain": [
       "transaction_id               int64\n",
       "transaction_date    datetime64[ns]\n",
       "transaction_time            object\n",
       "transaction_qty              int64\n",
       "store_id                     int64\n",
       "store_location              object\n",
       "product_id                   int64\n",
       "unit_price                 float64\n",
       "product_category            object\n",
       "product_type                object\n",
       "product_detail              object\n",
       "dtype: object"
      ]
     },
     "execution_count": 13,
     "metadata": {},
     "output_type": "execute_result"
    }
   ],
   "source": [
    "data.dtypes"
   ]
  },
  {
   "cell_type": "markdown",
   "id": "17ab65e9-8716-480a-9fde-7d2164a8459e",
   "metadata": {},
   "source": [
    "Các cột dữ liệu: `transaction_id`, `store_id`, `product_id` đang được lưu trữ với kiểu dữ liệu số. Tuy nhiên, các thuộc tính này lại mang ý nghĩa về sự phân loại nên chuyển các thuộc tính trên thành kiểu dữ liệu phân loại."
   ]
  },
  {
   "cell_type": "code",
   "execution_count": 15,
   "id": "22306bc1-0b20-4002-a889-7a6f9b30d1e4",
   "metadata": {},
   "outputs": [],
   "source": [
    "data['transaction_id'] = data['transaction_id'].astype(str)\n",
    "data['store_id'] = data['transaction_id'].astype(str)\n",
    "data['product_id'] = data['transaction_id'].astype(str)"
   ]
  },
  {
   "cell_type": "markdown",
   "id": "840c2f6d-bf7c-4882-b2ec-1c97e4080c94",
   "metadata": {},
   "source": [
    "Ngoài ra, cột dữ liệu `transaction_date` và `transaction_time` cần gộp chung lại thành cột dữ liệu `transaction_datetime` và chuẩn hóa về dạng *datetime64[ns]*."
   ]
  },
  {
   "cell_type": "code",
   "execution_count": 17,
   "id": "47fd910f-5786-496b-99fb-4203ece25d6b",
   "metadata": {},
   "outputs": [],
   "source": [
    "data['transaction_date'] = data['transaction_date'].astype(str)\n",
    "tmp = [f'{data['transaction_date'][i]} {data['transaction_time'][i]}' for i in range(data.shape[0])]\n",
    "data['transaction_datetime'] = pd.to_datetime(tmp)"
   ]
  },
  {
   "cell_type": "markdown",
   "id": "c291cfc2-e9cf-4430-b931-86cd375216a6",
   "metadata": {},
   "source": [
    "Xóa 2 cột `transaction_date` và `transaction_time`"
   ]
  },
  {
   "cell_type": "code",
   "execution_count": 19,
   "id": "06179398-5d67-488d-8f09-67398001b7bb",
   "metadata": {},
   "outputs": [],
   "source": [
    "data = data.drop(columns=['transaction_date', 'transaction_time'])"
   ]
  },
  {
   "cell_type": "code",
   "execution_count": 20,
   "id": "a32c300f-a7d0-4e06-9f72-5282ce01cf96",
   "metadata": {},
   "outputs": [
    {
     "data": {
      "text/html": [
       "<div>\n",
       "<style scoped>\n",
       "    .dataframe tbody tr th:only-of-type {\n",
       "        vertical-align: middle;\n",
       "    }\n",
       "\n",
       "    .dataframe tbody tr th {\n",
       "        vertical-align: top;\n",
       "    }\n",
       "\n",
       "    .dataframe thead th {\n",
       "        text-align: right;\n",
       "    }\n",
       "</style>\n",
       "<table border=\"1\" class=\"dataframe\">\n",
       "  <thead>\n",
       "    <tr style=\"text-align: right;\">\n",
       "      <th></th>\n",
       "      <th>transaction_id</th>\n",
       "      <th>transaction_qty</th>\n",
       "      <th>store_id</th>\n",
       "      <th>store_location</th>\n",
       "      <th>product_id</th>\n",
       "      <th>unit_price</th>\n",
       "      <th>product_category</th>\n",
       "      <th>product_type</th>\n",
       "      <th>product_detail</th>\n",
       "      <th>transaction_datetime</th>\n",
       "    </tr>\n",
       "  </thead>\n",
       "  <tbody>\n",
       "    <tr>\n",
       "      <th>0</th>\n",
       "      <td>1</td>\n",
       "      <td>2</td>\n",
       "      <td>1</td>\n",
       "      <td>Lower Manhattan</td>\n",
       "      <td>1</td>\n",
       "      <td>3.0</td>\n",
       "      <td>Coffee</td>\n",
       "      <td>Gourmet brewed coffee</td>\n",
       "      <td>Ethiopia Rg</td>\n",
       "      <td>2023-01-01 07:06:11</td>\n",
       "    </tr>\n",
       "    <tr>\n",
       "      <th>1</th>\n",
       "      <td>2</td>\n",
       "      <td>2</td>\n",
       "      <td>2</td>\n",
       "      <td>Lower Manhattan</td>\n",
       "      <td>2</td>\n",
       "      <td>3.1</td>\n",
       "      <td>Tea</td>\n",
       "      <td>Brewed Chai tea</td>\n",
       "      <td>Spicy Eye Opener Chai Lg</td>\n",
       "      <td>2023-01-01 07:08:56</td>\n",
       "    </tr>\n",
       "    <tr>\n",
       "      <th>2</th>\n",
       "      <td>3</td>\n",
       "      <td>2</td>\n",
       "      <td>3</td>\n",
       "      <td>Lower Manhattan</td>\n",
       "      <td>3</td>\n",
       "      <td>4.5</td>\n",
       "      <td>Drinking Chocolate</td>\n",
       "      <td>Hot chocolate</td>\n",
       "      <td>Dark chocolate Lg</td>\n",
       "      <td>2023-01-01 07:14:04</td>\n",
       "    </tr>\n",
       "    <tr>\n",
       "      <th>3</th>\n",
       "      <td>4</td>\n",
       "      <td>1</td>\n",
       "      <td>4</td>\n",
       "      <td>Lower Manhattan</td>\n",
       "      <td>4</td>\n",
       "      <td>2.0</td>\n",
       "      <td>Coffee</td>\n",
       "      <td>Drip coffee</td>\n",
       "      <td>Our Old Time Diner Blend Sm</td>\n",
       "      <td>2023-01-01 07:20:24</td>\n",
       "    </tr>\n",
       "    <tr>\n",
       "      <th>4</th>\n",
       "      <td>5</td>\n",
       "      <td>2</td>\n",
       "      <td>5</td>\n",
       "      <td>Lower Manhattan</td>\n",
       "      <td>5</td>\n",
       "      <td>3.1</td>\n",
       "      <td>Tea</td>\n",
       "      <td>Brewed Chai tea</td>\n",
       "      <td>Spicy Eye Opener Chai Lg</td>\n",
       "      <td>2023-01-01 07:22:41</td>\n",
       "    </tr>\n",
       "  </tbody>\n",
       "</table>\n",
       "</div>"
      ],
      "text/plain": [
       "  transaction_id  transaction_qty store_id   store_location product_id  \\\n",
       "0              1                2        1  Lower Manhattan          1   \n",
       "1              2                2        2  Lower Manhattan          2   \n",
       "2              3                2        3  Lower Manhattan          3   \n",
       "3              4                1        4  Lower Manhattan          4   \n",
       "4              5                2        5  Lower Manhattan          5   \n",
       "\n",
       "   unit_price    product_category           product_type  \\\n",
       "0         3.0              Coffee  Gourmet brewed coffee   \n",
       "1         3.1                 Tea        Brewed Chai tea   \n",
       "2         4.5  Drinking Chocolate          Hot chocolate   \n",
       "3         2.0              Coffee            Drip coffee   \n",
       "4         3.1                 Tea        Brewed Chai tea   \n",
       "\n",
       "                product_detail transaction_datetime  \n",
       "0                  Ethiopia Rg  2023-01-01 07:06:11  \n",
       "1     Spicy Eye Opener Chai Lg  2023-01-01 07:08:56  \n",
       "2            Dark chocolate Lg  2023-01-01 07:14:04  \n",
       "3  Our Old Time Diner Blend Sm  2023-01-01 07:20:24  \n",
       "4     Spicy Eye Opener Chai Lg  2023-01-01 07:22:41  "
      ]
     },
     "execution_count": 20,
     "metadata": {},
     "output_type": "execute_result"
    }
   ],
   "source": [
    "data.head()"
   ]
  },
  {
   "cell_type": "code",
   "execution_count": 21,
   "id": "d58fd7d8-259e-4de7-a4e0-e2edc96072fd",
   "metadata": {},
   "outputs": [
    {
     "data": {
      "text/plain": [
       "transaction_id                  object\n",
       "transaction_qty                  int64\n",
       "store_id                        object\n",
       "store_location                  object\n",
       "product_id                      object\n",
       "unit_price                     float64\n",
       "product_category                object\n",
       "product_type                    object\n",
       "product_detail                  object\n",
       "transaction_datetime    datetime64[ns]\n",
       "dtype: object"
      ]
     },
     "execution_count": 21,
     "metadata": {},
     "output_type": "execute_result"
    }
   ],
   "source": [
    "data.dtypes"
   ]
  },
  {
   "cell_type": "markdown",
   "id": "a7dd6fe7-3214-4c40-915d-1fda061d57cc",
   "metadata": {},
   "source": [
    "#### **- Sự phân bố dữ liệu?**\n",
    "**Đối với dữ liệu số**\n",
    "\n",
    "Thực hiện một số thống kê cơ bản gồm: tỉ lệ mất dữ liệu `missing_ratio (%)`, giá trị nhỏ nhất `min`, các điểm phân vị: `lower quartile` và `upper quartile`, giá trị trung bình `median`, giá trị lớn nhất `max`."
   ]
  },
  {
   "cell_type": "code",
   "execution_count": 23,
   "id": "e3706e6a-f656-4e74-9ee7-cd75f9b882ef",
   "metadata": {},
   "outputs": [
    {
     "data": {
      "text/html": [
       "<div>\n",
       "<style scoped>\n",
       "    .dataframe tbody tr th:only-of-type {\n",
       "        vertical-align: middle;\n",
       "    }\n",
       "\n",
       "    .dataframe tbody tr th {\n",
       "        vertical-align: top;\n",
       "    }\n",
       "\n",
       "    .dataframe thead th {\n",
       "        text-align: right;\n",
       "    }\n",
       "</style>\n",
       "<table border=\"1\" class=\"dataframe\">\n",
       "  <thead>\n",
       "    <tr style=\"text-align: right;\">\n",
       "      <th></th>\n",
       "      <th>transaction_qty</th>\n",
       "      <th>unit_price</th>\n",
       "    </tr>\n",
       "  </thead>\n",
       "  <tbody>\n",
       "    <tr>\n",
       "      <th>missing_ratio</th>\n",
       "      <td>0.0</td>\n",
       "      <td>0.0</td>\n",
       "    </tr>\n",
       "    <tr>\n",
       "      <th>min</th>\n",
       "      <td>1.0</td>\n",
       "      <td>0.8</td>\n",
       "    </tr>\n",
       "    <tr>\n",
       "      <th>lower_quartile</th>\n",
       "      <td>1.0</td>\n",
       "      <td>2.5</td>\n",
       "    </tr>\n",
       "    <tr>\n",
       "      <th>median</th>\n",
       "      <td>1.0</td>\n",
       "      <td>3.0</td>\n",
       "    </tr>\n",
       "    <tr>\n",
       "      <th>upper_quartile</th>\n",
       "      <td>2.0</td>\n",
       "      <td>3.8</td>\n",
       "    </tr>\n",
       "    <tr>\n",
       "      <th>max</th>\n",
       "      <td>8.0</td>\n",
       "      <td>45.0</td>\n",
       "    </tr>\n",
       "  </tbody>\n",
       "</table>\n",
       "</div>"
      ],
      "text/plain": [
       "                transaction_qty  unit_price\n",
       "missing_ratio               0.0         0.0\n",
       "min                         1.0         0.8\n",
       "lower_quartile              1.0         2.5\n",
       "median                      1.0         3.0\n",
       "upper_quartile              2.0         3.8\n",
       "max                         8.0        45.0"
      ]
     },
     "execution_count": 23,
     "metadata": {},
     "output_type": "execute_result"
    }
   ],
   "source": [
    "numeric_cols = ['transaction_qty', 'unit_price']\n",
    "numeric_data = data[numeric_cols]\n",
    "\n",
    "idx = ['missing_ratio', 'min', 'lower_quartile', 'median', 'upper_quartile', 'max']\n",
    "col_info_dict = {key: [\n",
    "                        round(np.sum(np.isnan(numeric_data[key].values))/numeric_data.shape[0] * 100, 1), \n",
    "                        round(numeric_data[key].min(), 1),\n",
    "                        round(numeric_data[key].quantile(0.25), 1),\n",
    "                        round(numeric_data[key].median(), 1),\n",
    "                        round(numeric_data[key].quantile(0.75), 1),\n",
    "                        round(numeric_data[key].max(), 1)\n",
    "                    ] for key in numeric_cols}\n",
    "num_col_info_df = pd.DataFrame(col_info_dict, index=idx)\n",
    "num_col_info_df"
   ]
  },
  {
   "cell_type": "markdown",
   "id": "c7fe7f79-da6e-4ef7-a07f-0c431913136c",
   "metadata": {},
   "source": [
    "Tiếp theo, xử lý dữ liệu trống trong các cột dữ liệu số"
   ]
  },
  {
   "cell_type": "code",
   "execution_count": 25,
   "id": "66817f8d-8d21-492a-8210-c699ecaac348",
   "metadata": {},
   "outputs": [
    {
     "data": {
      "text/plain": [
       "{'transaction_qty': 0.0, 'unit_price': 0.0}"
      ]
     },
     "execution_count": 25,
     "metadata": {},
     "output_type": "execute_result"
    }
   ],
   "source": [
    "dict(num_col_info_df.iloc[0])"
   ]
  },
  {
   "cell_type": "markdown",
   "id": "40a36268-e4c5-4367-9aa1-dd902839c37a",
   "metadata": {},
   "source": [
    "*Ta có thể thấy không tồn tại ô dữ liệu trống trong các cột dữ liệu số của tập dataset!*"
   ]
  },
  {
   "cell_type": "markdown",
   "id": "b6a5f00b-a866-464e-83f2-1045dea8830f",
   "metadata": {},
   "source": [
    "**Đối với dữ liệu dạng phân loại**\n",
    "\n",
    "Tính toán tần suất xuất hiện của các cột và in ra *n* giá trị có tần suất xuất hiện nhiều nhất của mỗi cột"
   ]
  },
  {
   "cell_type": "code",
   "execution_count": 28,
   "id": "08cdd781-dce8-443f-9cf1-26ddfecc698e",
   "metadata": {},
   "outputs": [
    {
     "name": "stdout",
     "output_type": "stream",
     "text": [
      "Tỉ lệ phần trăm các ô trống trong cột 'transaction_id' (missing_ratio): 0%\n",
      "Các giá trị trong cột 'transaction_id' với tần xuất và tỉ lệ phần trăm:\n",
      "1: 1 (0.00067%)\n",
      "99641: 1 (0.00067%)\n",
      "99661: 1 (0.00067%)\n",
      "99662: 1 (0.00067%)\n",
      "99663: 1 (0.00067%)\n",
      "99664: 1 (0.00067%)\n",
      "99665: 1 (0.00067%)\n",
      "99666: 1 (0.00067%)\n",
      "99667: 1 (0.00067%)\n",
      "99668: 1 (0.00067%)\n",
      "...\n",
      "\n",
      "----------------------------------------\n",
      "\n",
      "Tỉ lệ phần trăm các ô trống trong cột 'transaction_datetime' (missing_ratio): 0%\n",
      "Các giá trị trong cột 'transaction_datetime' với tần xuất và tỉ lệ phần trăm:\n",
      "2023-05-09 07:11:25: 10 (0.00671%)\n",
      "2023-06-09 07:11:25: 7 (0.00469%)\n",
      "2023-04-09 08:15:41: 6 (0.00402%)\n",
      "2023-03-30 08:15:41: 6 (0.00402%)\n",
      "2023-06-09 08:15:41: 6 (0.00402%)\n",
      "2023-06-30 08:15:41: 6 (0.00402%)\n",
      "2023-01-09 08:15:41: 6 (0.00402%)\n",
      "2023-04-09 10:21:56: 5 (0.00335%)\n",
      "2023-03-09 09:04:31: 5 (0.00335%)\n",
      "2023-05-31 10:20:15: 5 (0.00335%)\n",
      "...\n",
      "\n",
      "----------------------------------------\n",
      "\n",
      "Tỉ lệ phần trăm các ô trống trong cột 'store_id' (missing_ratio): 0%\n",
      "Các giá trị trong cột 'store_id' với tần xuất và tỉ lệ phần trăm:\n",
      "1: 1 (0.00067%)\n",
      "99641: 1 (0.00067%)\n",
      "99661: 1 (0.00067%)\n",
      "99662: 1 (0.00067%)\n",
      "99663: 1 (0.00067%)\n",
      "99664: 1 (0.00067%)\n",
      "99665: 1 (0.00067%)\n",
      "99666: 1 (0.00067%)\n",
      "99667: 1 (0.00067%)\n",
      "99668: 1 (0.00067%)\n",
      "...\n",
      "\n",
      "----------------------------------------\n",
      "\n",
      "Tỉ lệ phần trăm các ô trống trong cột 'store_location' (missing_ratio): 0%\n",
      "Các giá trị trong cột 'store_location' với tần xuất và tỉ lệ phần trăm:\n",
      "Hell's Kitchen: 50735 (34.02385%)\n",
      "Astoria: 50599 (33.93264%)\n",
      "Lower Manhattan: 47782 (32.04351%)\n",
      "\n",
      "----------------------------------------\n",
      "\n",
      "Tỉ lệ phần trăm các ô trống trong cột 'product_id' (missing_ratio): 0%\n",
      "Các giá trị trong cột 'product_id' với tần xuất và tỉ lệ phần trăm:\n",
      "1: 1 (0.00067%)\n",
      "99641: 1 (0.00067%)\n",
      "99661: 1 (0.00067%)\n",
      "99662: 1 (0.00067%)\n",
      "99663: 1 (0.00067%)\n",
      "99664: 1 (0.00067%)\n",
      "99665: 1 (0.00067%)\n",
      "99666: 1 (0.00067%)\n",
      "99667: 1 (0.00067%)\n",
      "99668: 1 (0.00067%)\n",
      "...\n",
      "\n",
      "----------------------------------------\n",
      "\n",
      "Tỉ lệ phần trăm các ô trống trong cột 'product_category' (missing_ratio): 0%\n",
      "Các giá trị trong cột 'product_category' với tần xuất và tỉ lệ phần trăm:\n",
      "Coffee: 58416 (39.17487%)\n",
      "Tea: 45449 (30.47896%)\n",
      "Bakery: 22796 (15.28743%)\n",
      "Drinking Chocolate: 11468 (7.69066%)\n",
      "Flavours: 6790 (4.5535%)\n",
      "Coffee beans: 1753 (1.17559%)\n",
      "Loose Tea: 1210 (0.81145%)\n",
      "Branded: 747 (0.50095%)\n",
      "Packaged Chocolate: 487 (0.32659%)\n",
      "\n",
      "----------------------------------------\n",
      "\n",
      "Tỉ lệ phần trăm các ô trống trong cột 'product_type' (missing_ratio): 0%\n",
      "Các giá trị trong cột 'product_type' với tần xuất và tỉ lệ phần trăm:\n",
      "Brewed Chai tea: 17183 (11.52324%)\n",
      "Gourmet brewed coffee: 16912 (11.34151%)\n",
      "Barista Espresso: 16403 (11.00016%)\n",
      "Hot chocolate: 11468 (7.69066%)\n",
      "Brewed Black tea: 11350 (7.61152%)\n",
      "Brewed herbal tea: 11245 (7.54111%)\n",
      "Scone: 10173 (6.82221%)\n",
      "Organic brewed coffee: 8489 (5.69288%)\n",
      "Drip coffee: 8477 (5.68484%)\n",
      "Premium brewed coffee: 8135 (5.45548%)\n",
      "...\n",
      "\n",
      "----------------------------------------\n",
      "\n",
      "Tỉ lệ phần trăm các ô trống trong cột 'product_detail' (missing_ratio): 0%\n",
      "Các giá trị trong cột 'product_detail' với tần xuất và tỉ lệ phần trăm:\n",
      "Chocolate Croissant: 3076 (2.06282%)\n",
      "Earl Grey Rg: 3053 (2.0474%)\n",
      "Dark chocolate Lg: 3029 (2.0313%)\n",
      "Morning Sunrise Chai Rg: 3026 (2.02929%)\n",
      "Columbian Medium Roast Rg: 3013 (2.02057%)\n",
      "Latte: 2990 (2.00515%)\n",
      "Sustainably Grown Organic Lg: 2961 (1.9857%)\n",
      "Traditional Blend Chai Rg: 2955 (1.98168%)\n",
      "Spicy Eye Opener Chai Lg: 2951 (1.979%)\n",
      "Peppermint Rg: 2949 (1.97765%)\n",
      "...\n",
      "\n",
      "----------------------------------------\n",
      "\n"
     ]
    }
   ],
   "source": [
    "categorical_cols = ['transaction_id', 'transaction_datetime', 'store_id', 'store_location', 'product_id', 'product_category', 'product_type', 'product_detail']\n",
    "\n",
    "def display_top_categories(df, column, top_n=10):\n",
    "    top_values = df[column].value_counts()\n",
    "    \n",
    "    check = top_n\n",
    "    top_n = min(top_n, top_values.shape[0])\n",
    "    \n",
    "    first_n_values = top_values.head(top_n)\n",
    "    \n",
    "    total_count = df.shape[0]\n",
    "    \n",
    "    percentages = (top_values / total_count * 100).round(5)\n",
    "    first_n_percentages = percentages.head(top_n)\n",
    "\n",
    "    print(f\"Tỉ lệ phần trăm các ô trống trong cột '{column}' (missing_ratio): {df[column].isna().sum()}%\")\n",
    "    print(f\"Các giá trị trong cột '{column}' với tần xuất và tỉ lệ phần trăm:\")\n",
    "\n",
    "    for value, count, pct in zip(first_n_values.index, first_n_values.values, percentages):\n",
    "        print(f\"{value}: {count} ({pct}%)\")\n",
    "\n",
    "    if check == top_n:\n",
    "        print(\"...\")\n",
    "    print(\"\\n\" + \"-\"*40 + \"\\n\")\n",
    "\n",
    "for col in categorical_cols:\n",
    "    display_top_categories(data, col)\n"
   ]
  },
  {
   "cell_type": "markdown",
   "id": "feec1031-f4f6-434d-9ecc-18006cd71c9d",
   "metadata": {},
   "source": [
    "*Ta có thể thấy sự phân bố dữ liệu rõ ràng và không tồn tại bất kỳ ô trống nào trong các cột dữ liệu kiểu phân loại của dataset này!*"
   ]
  },
  {
   "cell_type": "markdown",
   "id": "e0b54e74-d47a-4175-9fcc-be1f17604019",
   "metadata": {},
   "source": [
    "#### **- Ghi ra file tập dữ liệu đã qua tiền xử lý**"
   ]
  },
  {
   "cell_type": "code",
   "execution_count": 31,
   "id": "a6937b24-e4e1-40e6-9389-f9b78ef064e9",
   "metadata": {},
   "outputs": [],
   "source": [
    "data.to_csv(\"./data/processed_data.csv\", index = False)"
   ]
  }
 ],
 "metadata": {
  "kernelspec": {
   "display_name": "Python 3 (ipykernel)",
   "language": "python",
   "name": "python3"
  },
  "language_info": {
   "codemirror_mode": {
    "name": "ipython",
    "version": 3
   },
   "file_extension": ".py",
   "mimetype": "text/x-python",
   "name": "python",
   "nbconvert_exporter": "python",
   "pygments_lexer": "ipython3",
   "version": "3.12.4"
  }
 },
 "nbformat": 4,
 "nbformat_minor": 5
}
