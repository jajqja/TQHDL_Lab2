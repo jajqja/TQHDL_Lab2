{
 "cells": [
  {
   "cell_type": "markdown",
   "id": "0e4c6ca4-fc0e-4bcc-b259-0b022b2eeb5e",
   "metadata": {},
   "source": [
    "# DATA COLLECTING"
   ]
  },
  {
   "cell_type": "markdown",
   "id": "d93022a8-b3c2-4322-ac28-0a0c6a149ba6",
   "metadata": {},
   "source": [
    "## 1. Nêu ngữ cảnh và lý do chọn chủ đề của bộ dữ liệu"
   ]
  },
  {
   "cell_type": "markdown",
   "id": "c862097e-12cf-45a3-aa21-4a1d2c13d4d0",
   "metadata": {},
   "source": [
    "Nhóm em chọn chủ đề này bởi vì:\n",
    "\n",
    "- Nó gần gũi với con người và đời sống thường ngày. \n",
    "Cửa hàng cà phê là một địa điểm quen thuộc với nhiều hoạt động thường ngày như làm việc, thư giãn, hoặc gặp gỡ bạn bè. Đây là đề tài gần gũi với hầu hết mọi người đặc biệt là với sinh viên chúng em.\n",
    "- Các thành viên trong nhóm đều có sự hiểu biết cơ bản về các loại đồ uống, cách vận hành cửa hàng, xu hướng tiêu dùng của khách hàng.\n",
    "\n",
    "- Chủ đề liên quan đến cửa hàng cà phê có nhiều nguồn dữ liệu thực tế và không đòi hỏi kiến thức chuyên môn quá phức tạp để phân tích. Các thông tin như sản phẩm, giá cả, doanh thu, và thời gian bán hàng,.. là những yếu tố rõ ràng và dễ hiểu.\n"
   ]
  },
  {
   "cell_type": "markdown",
   "id": "c52e6497-9ae7-4d52-92e0-36a56296bf67",
   "metadata": {},
   "source": [
    "## 2. Chủ đề chính của bộ dữ liệu"
   ]
  },
  {
   "cell_type": "markdown",
   "id": "d87b04ae-c270-4602-95bc-d5109d2e83c9",
   "metadata": {},
   "source": [
    "Bộ dữ liệu này ghi nhận chi tiết các giao dịch tại cửa hàng cà phê, bao gồm thông tin về thời gian, số lượng, loại sản phẩm, giá cả và vị trí cửa hàng. Chủ đề chính xoay quanh việc phân tích xu hướng tiêu dùng của khách hàng, đánh giá doanh thu và hiệu suất kinh doanh tại các địa điểm khác nhau. Thông qua đó, dữ liệu giúp tìm hiểu sản phẩm bán chạy, giờ cao điểm, và xu hướng mua sắm, từ đó hỗ trợ xây dựng chiến lược tối ưu hóa giá cả, menu, và kế hoạch kinh doanh trong tương lai."
   ]
  },
  {
   "cell_type": "markdown",
   "id": "28598c34-0a7a-4c08-b2bf-73a99947d65b",
   "metadata": {},
   "source": [
    "## 3. Xây dựng dữ liệu này như thế nào? Phương pháp là gì?"
   ]
  },
  {
   "cell_type": "markdown",
   "id": "47d8b40c-bdba-4208-a261-9f4b07a9b106",
   "metadata": {},
   "source": [
    "Dựa trên tập dữ liệu, các thông tin được cấu trúc từ hệ thống quản lý bán hàng của một chuỗi cửa hàng cà phê. Dữ liệu được cửa hàng này thu thập thông tin từ việc mua các loại đồ uống trực tiếp từ các khách hàng. Các thông tin họ thu thập là các đặc trưng được thể hiện bằng các cột trong tập dữ liệu `Coffee Shop Sales.csv`. Việc xây dựng tập dữ liệu có thể sử dụng bằng các phương pháp như: \n",
    "\n",
    "- Hệ thống POS (Point of Sale): Tự động ghi nhận thông tin giao dịch như ngày (`transaction_date`), giờ (`transaction_time`), sản phẩm, giá (`unit_price`), và địa điểm bán hàng (`store_location` và `store_id`). Trong đó sản phẩm được phân loại như sau: Mỗi sản phẩm được gán mã (`product_id`), loại sản phẩm (`product_category`), và mô tả chi tiết (`product_detail`).\n",
    "  \n",
    "- Hoặc cũng có thể chính nhân viên ghi lại quán ghi lại trực tiếp các thông tin giao dịch với khách hàng, cùng với các sản phẩm đã được phân loại."
   ]
  },
  {
   "cell_type": "markdown",
   "id": "78320816-a776-4686-9422-c0d6744d945f",
   "metadata": {},
   "source": [
    "## 4. Chúng ta sử dụng tập dữ liệu này như thế nào? Liệu có hợp pháp để sử dụng trong giáo dục?"
   ]
  },
  {
   "cell_type": "markdown",
   "id": "d1a7fc7b-2bf2-4cca-908d-15daa6b93b79",
   "metadata": {},
   "source": [
    "Trong giáo dục, việc sử dụng các tập dữ liệu để phân tích và nghiên cứu rất phổ biến, nhất là trong lĩnh vực khoa học dữ liệu. Với tập dữ liệu này, ta có thể sử dụng nó để phục vụ một số mục đích như:\n",
    "\n",
    "- Phân tích dữ liệu: Khám phá các mẫu về doanh số bán hàng theo thời gian (ngày, giờ) và địa điểm; Phân tích sản phẩm nào bán chạy nhất tại từng cửa hàng hoặc từng khu vực ...\n",
    "  \n",
    "- Trực quan hóa dữ liệu: Tạo biểu đồ doanh số theo giờ hoặc ngày trong tuần để xác định thời điểm bán hàng cao điểm; Tạo biểu đồ xu hướng để dự đoán nhu cầu theo mùa ...\n",
    "  \n",
    "- Xây dựng mô hình: Dự đoán doanh số bán hàng dựa trên thời gian, địa điểm, và danh mục sản phẩm; Phân cụm khách hàng hoặc sản phẩm để tìm hiểu các nhóm hành vi khác nhau ...\n",
    "\n",
    "Những mục đích trên chỉ phục vụ trong giáo dục, không có mục đích thương mại hay làm ảnh hưởng đến bất kì tổ chức, cá nhân nào. Tập dữ liệu được lấy trên Kaggle, và không có bất kì điều khoản nào quy định cấm thực hiện các mục đích đã nêu trên. Vì vậy, chúng ta sử dụng tập dữ liệu trong giáo dục này hoàn toàn hợp pháp."
   ]
  },
  {
   "cell_type": "code",
   "execution_count": null,
   "id": "491d6e12-271a-451a-a796-d01f685cdbb4",
   "metadata": {},
   "outputs": [],
   "source": []
  }
 ],
 "metadata": {
  "kernelspec": {
   "display_name": "Python 3 (ipykernel)",
   "language": "python",
   "name": "python3"
  },
  "language_info": {
   "codemirror_mode": {
    "name": "ipython",
    "version": 3
   },
   "file_extension": ".py",
   "mimetype": "text/x-python",
   "name": "python",
   "nbconvert_exporter": "python",
   "pygments_lexer": "ipython3",
   "version": "3.10.8"
  }
 },
 "nbformat": 4,
 "nbformat_minor": 5
}
